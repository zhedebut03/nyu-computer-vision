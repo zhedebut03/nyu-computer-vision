{
  "nbformat": 4,
  "nbformat_minor": 0,
  "metadata": {
    "colab": {
      "provenance": [],
      "collapsed_sections": []
    },
    "kernelspec": {
      "display_name": "Python 3",
      "language": "python",
      "name": "python3"
    },
    "language_info": {
      "codemirror_mode": {
        "name": "ipython",
        "version": 3
      },
      "file_extension": ".py",
      "mimetype": "text/x-python",
      "name": "python",
      "nbconvert_exporter": "python",
      "pygments_lexer": "ipython3",
      "version": "3.6.10"
    },
    "accelerator": "GPU"
  },
  "cells": [
    {
      "cell_type": "markdown",
      "metadata": {
        "id": "PwreVPXZIzZB"
      },
      "source": [
        "# Computer Vision Assignment 2\n",
        "---\n",
        "\n",
        "Semester: **Fall 2022**\n",
        "\n",
        "Due date: **October 27th 2022, 11.59PM EST.**\n",
        "\n",
        "## Instructions\n",
        "---\n",
        "\n",
        "You should perform this assignment using Google Colab. \n",
        "* Before starting, clone this assignment using `File > Save a copy in Drive`. \n",
        "* After you're done, go through the notebook and ensure that you have answered all questions.\n",
        "* Finally, submit the ipynb `File > Download > Download .ipynb` on brightspace\n"
      ]
    },
    {
      "cell_type": "markdown",
      "source": [
        "## Introduction\n",
        "---\n",
        "\n",
        "This is a minimal notebook showing the basics of object detection using ~300 lines of code. In this assignment you will code an object detection network with functionality similiar to a Single Shot (or YOLO) detector.\n",
        " \n",
        "For our purposes, we shall divide each image into rectangular crops called anchors. The job of our object detector is to classify each anchor as containing an object or not. If the anchor contains an object, we want to find out the change in the anchor position and size to best fit the object in it. Hence, object detection is a multi task network which does classification and regression."
      ],
      "metadata": {
        "id": "00B3WeE5GnLE"
      }
    },
    {
      "cell_type": "code",
      "source": [
        "# load helper code\n",
        "%cd /content\n",
        "!rm -rf nyu-cv-object-detection\n",
        "!git clone https://github.com/nikhilweee/nyu-cv-object-detection\n",
        "%cd nyu-cv-object-detection"
      ],
      "metadata": {
        "id": "BQ7S-qvdpYxo",
        "colab": {
          "base_uri": "https://localhost:8080/"
        },
        "outputId": "7cea9400-ec50-4b41-81a4-3913d5daeb8e"
      },
      "execution_count": 2,
      "outputs": [
        {
          "output_type": "stream",
          "name": "stdout",
          "text": [
            "/content\n",
            "Cloning into 'nyu-cv-object-detection'...\n",
            "remote: Enumerating objects: 7, done.\u001b[K\n",
            "remote: Counting objects: 100% (7/7), done.\u001b[K\n",
            "remote: Compressing objects: 100% (7/7), done.\u001b[K\n",
            "remote: Total 7 (delta 0), reused 7 (delta 0), pack-reused 0\u001b[K\n",
            "Unpacking objects: 100% (7/7), done.\n",
            "/content/nyu-cv-object-detection\n"
          ]
        }
      ]
    },
    {
      "cell_type": "code",
      "metadata": {
        "id": "ak37idDZIzZC"
      },
      "source": [
        "import torch\n",
        "import matplotlib\n",
        "import torch.nn as nn\n",
        "import torch.nn.functional as F\n",
        "\n",
        "from utils.plot import visualize\n",
        "from utils.encoder import ResNet18Encoder\n",
        "from utils.dataset import get_dataloaders\n",
        "from torchvision.ops import box_iou, nms\n",
        " \n",
        "trainloader, valloader = get_dataloaders(batch_size=4)\n",
        "device = 'cuda' if torch.cuda.is_available() else 'cpu'\n",
        " \n",
        "matplotlib.rcParams['figure.figsize'] = (10.0, 10.0)"
      ],
      "execution_count": 3,
      "outputs": []
    },
    {
      "cell_type": "markdown",
      "metadata": {
        "id": "VT-JnR9WIzZG"
      },
      "source": [
        "## Dataset\n",
        "---\n",
        "\n",
        "First, let's introduce our dataset. We shall work with an artificially generated dataset of different shapes (squares, triangles and circles) spread throughout an image. We have a Pytorch dataloader which outputs a `sample` and `target` pair. The `sample` contains the image and the `target` contains information about the bounding boxes. We have visualized the dataset below. You dont need to write any code here. However, feel free to dig into the functions that are called to better understand the structure of the dataset. "
      ]
    },
    {
      "cell_type": "code",
      "metadata": {
        "id": "IdSVb1pYIzZJ"
      },
      "source": [
        "sample, target = iter(trainloader).next()\n",
        "sample = torch.stack(sample, dim=0)"
      ],
      "execution_count": 64,
      "outputs": []
    },
    {
      "cell_type": "code",
      "metadata": {
        "id": "VztoWXFtIzZL",
        "colab": {
          "base_uri": "https://localhost:8080/",
          "height": 595
        },
        "outputId": "9aa24b3e-93ae-4b20-a52f-8aad057975cf"
      },
      "source": [
        "visualize(sample)"
      ],
      "execution_count": 65,
      "outputs": [
        {
          "output_type": "display_data",
          "data": {
            "text/plain": [
              "<Figure size 720x720 with 4 Axes>"
            ],
            "image/png": "[encoded data removed]"
          },
          "metadata": {
            "needs_background": "light"
          }
        }
      ]
    },
    {
      "cell_type": "code",
      "metadata": {
        "id": "57B5bLG-IzZN",
        "colab": {
          "base_uri": "https://localhost:8080/",
          "height": 595
        },
        "outputId": "b53c0a6b-687e-404a-84bc-a142992a3e76"
      },
      "source": [
        "visualize(sample, target)"
      ],
      "execution_count": 66,
      "outputs": [
        {
          "output_type": "display_data",
          "data": {
            "text/plain": [
              "<Figure size 720x720 with 4 Axes>"
            ],
            "image/png": "[encoded data removed]"
          },
          "metadata": {
            "needs_background": "light"
          }
        }
      ]
    },
    {
      "cell_type": "markdown",
      "metadata": {
        "id": "utFxVXjqIzZQ"
      },
      "source": [
        "## Targets\n",
        "---\n",
        "\n",
        "The labels (or `target`s) for each `sample` in the dataset have 2 kinds of information.\n",
        "\n",
        "1. The bounding boxes which are a tensor of size (N x 4).  \n",
        "Here is N is the number of objects in the image and 4 corresponds to:\n",
        "\n",
        "  a. top left x coordinate  \n",
        "  b. top left y coordinate  \n",
        "  c. bottom right x coordinate  \n",
        "  d. bottom right y coordinate  \n",
        "\n",
        "2. The classification labels which are a tensor of size (N x 1).  \n",
        "Here N corresponds to the number of objects in the image.  \n",
        "The 1 corresponds to the label of the object (whether it is a triangle, square or circle).\n",
        "\n",
        "For your convenience, here's what a `target` looks like.\n"
      ]
    },
    {
      "cell_type": "code",
      "metadata": {
        "id": "cHGsaaHMIzZQ",
        "tags": [],
        "colab": {
          "base_uri": "https://localhost:8080/"
        },
        "outputId": "a0c652e2-305d-44e9-836b-1af11cce6774"
      },
      "source": [
        "# len(target) how many images\n",
        "# target[i] \n",
        "# labels: 1=> sqaure 2=> circle 3=> rectangle\n",
        "# class: 0=>background ...\n",
        "print(target[3])"
      ],
      "execution_count": 12,
      "outputs": [
        {
          "output_type": "stream",
          "name": "stdout",
          "text": [
            "{'bounding_box': tensor([[ 40,  38, 102, 100],\n",
            "        [ 76,  45, 138, 107],\n",
            "        [ 45,   4,  87,  46]]), 'labels': tensor([3, 3, 2], dtype=torch.int32)}\n"
          ]
        }
      ]
    },
    {
      "cell_type": "markdown",
      "metadata": {
        "id": "Oq87yw2bIzZT"
      },
      "source": [
        "## TODO 1 [20%]: Anchors\n",
        "---\n",
        "\n",
        "As described before, our object detection network heavily builds upon the concept of anchors. Each image is divided into equally spaced rectangles of different sizes. These rectangles are called anchors. Anchors are best explained through this image.\n",
        "\n",
        "![Anchor Boxes](https://lilianweng.github.io/lil-log/assets/images/SSD-framework.png)\n",
        "\n",
        "Our synthetic dataset has images of size 128x128. We shall divide the image into anchors of three different sizes - 40x40, 50x50 and 60x60. We shall use a stride length of 16, which is to say that two anchors of the same size will be separated by 16 pixels (horizontally and vertically). Keeping this in mind, we shall have 64 anchors (128/16 = 8 anchors horizontally and 128/16 = 8 anchors vertically) corresponding to each size. Since we are working with three different sizes, the image will be divided into 64x3 = 192 anchors.\n",
        "\n",
        "Your first job is to write the code that creates these 192 anchors from an image of size 128x128. Each anchor will be represented by a 4-tuple (top left x, top left y, bottom right x, bottom right y). Therefore, the output of the function below should be a tensor of size `[192,4]`\n"
      ]
    },
    {
      "cell_type": "code",
      "metadata": {
        "id": "fvcyW6AkIzZZ",
        "tags": []
      },
      "source": [
        "def get_anchors():\n",
        "    \"\"\"\n",
        "    Generate 192 boxes where each box is represented by :\n",
        "    [top_left_x, top_left_y, bottom_right_x, bottom_right_y]\n",
        "\n",
        "    Each anchor position should generate 3 boxes according to the scales and ratios given.\n",
        "\n",
        "    Return this result as a torch tensor of size [192,4]\n",
        "    \"\"\"\n",
        "    stride = 16\n",
        "    image_size = 128\n",
        "    scales = [40, 50, 60]\n",
        "    \n",
        "    anchors = []\n",
        "\n",
        "    # TODO: Generate anchors\n",
        "    '''\n",
        "    0 --------> X\n",
        "    |\n",
        "    |\n",
        "    |\n",
        "    V\n",
        "    Y\n",
        "    Calculate the positions of a anchor\n",
        "    the center of the anchor is the center of the block 16 * 16\n",
        "    iterate from topleft of each block\n",
        "    '''\n",
        "    feature_size = image_size//stride # 8\n",
        "    for i in range(feature_size):\n",
        "      for j in range(feature_size):\n",
        "        for sc in scales:\n",
        "          tl_x = i * stride - (sc - stride) * 0.5\n",
        "          tl_y = j * stride - (sc - stride) * 0.5\n",
        "          br_x = i * stride + stride + (sc - stride) * 0.5\n",
        "          br_y = j * stride + stride + (sc - stride) * 0.5\n",
        "          anchors.append([tl_x, tl_y, br_x, br_y])\n",
        "    anchors = torch.tensor(anchors)\n",
        "    return anchors\n",
        "\n",
        "anchors = get_anchors()\n",
        "assert anchors.size() == (192,4)"
      ],
      "execution_count": 13,
      "outputs": []
    },
    {
      "cell_type": "markdown",
      "metadata": {
        "id": "uRmSTATwIzZZ"
      },
      "source": [
        "## TODO 2 [10%]: Model\n",
        "---\n",
        "\n",
        "Our object detection model will consist of two 'heads'. Both heads will process each of the 192 anchors that you generated in the previous section. The two heads are:\n",
        "\n",
        "1. A **classification head** (`cls` layer in the picture) to detect whether the anchor has an object in it or not. This is done by measuring the IOU of the anchor with each of the bounding boxes from the `target`. If the IOU is > 0.7, we say that the chunk contains the object. If it is less than 0.3, we say the chunk only contains the background. If the value is somewhere in between, we say that it is a bad chunk and do not use it towards loss computation.\n",
        "\n",
        "2. A **regression head** (`reg` layer in the picture) to calculate the change in height, width and the centre coordinates of the anchor to best fit the object. These offsets are 4 values for the height, width, center x and y coordinates.\n",
        "\n",
        "A pictorial representation of the model is shown below. However, instead of `2k` in the given image we just have k scores for the `cls` layer. This is because we group triangles, squares and circles into one foreground class for this assignment. Of course, we can have seperate predictions for each class but that is added complexity and is not implemented here.\n",
        "\n",
        "![Model Architecture](https://cdn-images-1.medium.com/max/1600/1*7heX-no7cdqllky-GwGBfQ.png)\n",
        "\n",
        "\n",
        "Your next job is to construct the model. Most of it is already implemented, you just have to add the classification and regression heads."
      ]
    },
    {
      "cell_type": "code",
      "metadata": {
        "id": "yt--F8HcIzZU"
      },
      "source": [
        "class ShapesModel(nn.Module):\n",
        "\n",
        "    def __init__(self):\n",
        "        super().__init__()\n",
        "\n",
        "        # for each grid in the feature map we have 3 anchors of sizes: 40x40, 50x50, 60x60\n",
        "        num_anchors = 3\n",
        "\n",
        "        # regular resnet 18 encoder\n",
        "        self.encoder = ResNet18Encoder()\n",
        "\n",
        "        # a small conv net\n",
        "        self.conv = nn.Conv2d(256, 256, kernel_size=3, stride=1, padding=1)\n",
        "\n",
        "        # TODO: Add a convolutional Layer to predict the class. This is a head that predicts whether an anchor contains an object or not.\n",
        "        self.cls = nn.Conv2d(256, num_anchors, kernel_size=1)\n",
        "\n",
        "        # TODO: Add a convolutional Layer to predict the offsets. This is a regression head that calculates 4 offsets for each anchor.\n",
        "        self.reg = nn.Conv2d(256, num_anchors * 4, kernel_size=1)\n",
        "\n",
        "\n",
        "    def permute_and_flatten(self, layer, N, A, C, H, W):\n",
        "        # helper function that rearranges the input for the loss function\n",
        "\n",
        "        layer = layer.view(N, -1, C, H, W)\n",
        "        layer = layer.permute(0, 3, 4, 1, 2)\n",
        "        layer = layer.reshape(N, -1, C)\n",
        "\n",
        "        return layer\n",
        "\n",
        "\n",
        "    def post_process(self, cls_pred, reg_pred):\n",
        "        # helper function that gets outputs in the right shape for applying the loss\n",
        "\n",
        "        N, AxC, H, W = cls_pred.size()\n",
        "        Ax4 = reg_pred.size(1)\n",
        "\n",
        "        A = Ax4 // 4\n",
        "        C = AxC // A\n",
        "\n",
        "        cls_pred = self.permute_and_flatten(\n",
        "            cls_pred, N, A, C, H, W\n",
        "        )\n",
        "\n",
        "        reg_pred = self.permute_and_flatten(\n",
        "            reg_pred, N, A, 4, H, W\n",
        "        )\n",
        "\n",
        "        return cls_pred.squeeze(), reg_pred.squeeze()\n",
        "\n",
        "\n",
        "    def forward(self, x):\n",
        "\n",
        "        x = self.encoder(x)\n",
        "\n",
        "        # we take the 3rd output feature map of \n",
        "        # size 8 x 8 from the resnet18 encoder \n",
        "\n",
        "        x = x[3]\n",
        "\n",
        "        x = F.relu(self.conv(x))\n",
        "\n",
        "        cls_pred = self.cls(x)\n",
        "        reg_pred = self.reg(x)\n",
        "\n",
        "        cls_pred, reg_pred = self.post_process(cls_pred, reg_pred)\n",
        "\n",
        "        return cls_pred, reg_pred\n"
      ],
      "execution_count": 14,
      "outputs": []
    },
    {
      "cell_type": "code",
      "metadata": {
        "id": "v-tnPWV9IzZX",
        "tags": []
      },
      "source": [
        "model = ShapesModel()\n",
        "sample, target = iter(trainloader).next()\n",
        "sample = torch.stack(sample, dim=0)\n",
        "cls_pred, reg_pred = model(sample)\n",
        "\n",
        "assert cls_pred.size() == (4, 192) and reg_pred.size() == (4, 192, 4)"
      ],
      "execution_count": 15,
      "outputs": []
    },
    {
      "cell_type": "markdown",
      "metadata": {
        "id": "zNbDq_8xIzZb"
      },
      "source": [
        "## TODO 3 [15%]: Preprocess\n",
        "---\n",
        "\n",
        "Now that we know how our model works, we need to prepare our dataset so that it can be used to train our model. Recall that our dataset provides bounding boxes and labels for each image. However, our model expects a class label and regression offsets for each anchor. In the following cells, you will implement `get_labels_and_offsets`, which calculates class labels and offsets for each anchor.\n",
        "\n",
        "Offsets are calculated in case the anchor has an IOU > 0.7 with any real object. The offsets are calculated using `compute_offsets`, which has already been provided to you. You may also need to use [`torchvision.ops.box_iou`](https://pytorch.org/vision/main/generated/torchvision.ops.box_iou.html)."
      ]
    },
    {
      "cell_type": "code",
      "source": [
        "# target [:, :]. [x1, y1, x2, y2] for a box"
      ],
      "metadata": {
        "id": "xKQhpwnYE7Cg"
      },
      "execution_count": null,
      "outputs": []
    },
    {
      "cell_type": "code",
      "source": [
        "def compute_offsets(targets, anchors):\n",
        "    \"\"\"\n",
        "    This function returns the offsets that need to applied to anchors to morph them into targets.\n",
        "    Both anchors and targets should be of the same shape, N x 4.\n",
        "    The output would be offsets given in a torch tensor of size N x 4.\n",
        "    \"\"\"\n",
        "\n",
        "    t_width = targets[:, 2] - targets[:, 0]\n",
        "    t_height = targets[:, 3] - targets[:, 1]\n",
        "    t_center_x = targets[:, 0] + 0.5 * t_width\n",
        "    t_center_y = targets[:, 1] + 0.5 * t_height\n",
        "\n",
        "    a_width = anchors[:, 2] - anchors[:, 0]\n",
        "    a_height = anchors[:, 3] - anchors[:, 1]\n",
        "    a_center_x = anchors[:, 0] + 0.5 * a_width\n",
        "    a_center_y = anchors[:, 1] + 0.5 * a_height\n",
        "\n",
        "    delta_x = (a_center_x - t_center_x) / t_width\n",
        "    delta_y = (a_center_y - t_center_y) / t_height\n",
        "    delta_scale_x = torch.log(a_width / t_width)\n",
        "    delta_scale_y = torch.log(a_height / t_height)\n",
        "\n",
        "    offsets = torch.cat(\n",
        "        [\n",
        "            delta_x.unsqueeze(0),\n",
        "            delta_y.unsqueeze(0),\n",
        "            delta_scale_x.unsqueeze(0),\n",
        "            delta_scale_y.unsqueeze(0),\n",
        "        ],\n",
        "        dim=0,\n",
        "    )\n",
        "    return offsets.permute(1, 0)"
      ],
      "metadata": {
        "id": "I8wTThl0hebC"
      },
      "execution_count": 16,
      "outputs": []
    },
    {
      "cell_type": "code",
      "source": [
        "def get_labels_and_offsets(targets, anchors):\n",
        "    '''\n",
        "    INPUT:\n",
        "    targets: [N x 4]: Bounding boxes in the image.\n",
        "    anchors: [192 x 4]: Anchor boxes of an image. \n",
        "\n",
        "    OUTPUT: \n",
        "    labels: [192 x 1]: Class labels for each anchor. 1 is for foreground, 0 is for background and -1 is for a bad anchor.\n",
        "    offsets: [192 x 4]: Offsets for anchor to best fit the bounding box object. Calculated if class label is 1.\n",
        "\n",
        "    '''\n",
        "    high_threshold = 0.7\n",
        "    low_threshold = 0.3\n",
        "\n",
        "    N = anchors.size(0)\n",
        "    Num_target = targets.size(0) # <== added one more line here\n",
        "    \n",
        "    # TODO: Calculate labels and offsets\n",
        "    offsets = torch.Tensor([[0.,0.,0.,0.] for _ in range(N)])\n",
        "    labels = torch.Tensor([[0] for _ in range(N)])\n",
        "  \n",
        "    def add_label(iou_vec):\n",
        "        '''\n",
        "        input: i : the anchors with iou computed\n",
        "        algo: check if exist anchor has been classified as having an object for any of the targets\n",
        "        return: labels\n",
        "        '''\n",
        "        if any(iou_vec == 1): return 1 # as long as one anchor is 1 then set 1\n",
        "        elif any(iou_vec== -1): return -1\n",
        "        else: return 0\n",
        "\n",
        "    # Calculate the IOU here which is the accuracy of a anchor\n",
        "    IOU = box_iou(anchors, targets) # one is target, one is anchor\n",
        "\n",
        "    classify = [[0] * Num_target for _ in range(N)]\n",
        "    classify = torch.tensor(offsets)\n",
        "    for i in range(N):\n",
        "        for j in range(Num_target):\n",
        "            if IOU[i][j] > 0.7:\n",
        "                classify[i][j] = 1\n",
        "                offsets[i] = compute_offsets(targets[j,:].view(-1, 4), anchors[i,:].view(-1,4))\n",
        "            elif IOU[i][j] < 0.3:\n",
        "                classify[i][j] = 0\n",
        "            else:\n",
        "                classify[i][j] = -1\n",
        "\n",
        "    # Calculate the labels\n",
        "    labels = torch.Tensor([add_label(i) for i in classify]).unsqueeze(dim = 1)\n",
        "    # labels=torch.reshape(labels,(192, 1))\n",
        "    return labels.squeeze(), offsets.squeeze()\n",
        "\n"
      ],
      "metadata": {
        "id": "D28mmx7fjTsd"
      },
      "execution_count": 17,
      "outputs": []
    },
    {
      "cell_type": "code",
      "metadata": {
        "id": "geYdBXveIzZe"
      },
      "source": [
        "def get_batch(sample, target):\n",
        "    '''\n",
        "    Input\n",
        "    target => Set of bounding boxes for each image.\n",
        "    Sample => Each image\n",
        "    Output:\n",
        "    Bounding box offsets and class labels for each anchor.\n",
        "    '''\n",
        "\n",
        "    all_labels = []\n",
        "    all_offsets = []\n",
        "    \n",
        "    for s, t in zip(sample, target):\n",
        "        targets = t['bounding_box'].to(device)\n",
        "        labels, offsets = get_labels_and_offsets(targets, anchors)\n",
        "        all_labels.append(labels)\n",
        "        all_offsets.append(offsets)\n",
        "    \n",
        "    all_labels = torch.stack(all_labels, dim=0)\n",
        "    all_offsets = torch.stack(all_offsets, dim=0)\n",
        "\n",
        "    return all_labels, all_offsets"
      ],
      "execution_count": 18,
      "outputs": []
    },
    {
      "cell_type": "code",
      "metadata": {
        "id": "_MaTWpH2IzZg",
        "tags": [],
        "colab": {
          "base_uri": "https://localhost:8080/"
        },
        "outputId": "10ccd98f-463d-403e-e111-cc2b41d3958d"
      },
      "source": [
        "sample, target = iter(trainloader).next()\n",
        "sample = torch.stack(sample, dim=0)\n",
        "\n",
        "anchors = anchors.to(device) # <== add one more line here\n",
        "labels, offsets = get_batch(sample, target)\n",
        "assert labels.size() == (4, 192) and offsets.size() == (4, 192, 4)"
      ],
      "execution_count": 19,
      "outputs": [
        {
          "output_type": "stream",
          "name": "stderr",
          "text": [
            "/usr/local/lib/python3.7/dist-packages/ipykernel_launcher.py:36: UserWarning: To copy construct from a tensor, it is recommended to use sourceTensor.clone().detach() or sourceTensor.clone().detach().requires_grad_(True), rather than torch.tensor(sourceTensor).\n"
          ]
        }
      ]
    },
    {
      "cell_type": "markdown",
      "metadata": {
        "id": "z5S_E5BmIzZj"
      },
      "source": [
        "This is the meat of object detection right there ! A major part of the exercise is the correct calculation of the anchors for an image and its ground truth. Now that this is done, we can move on to our neural network training code."
      ]
    },
    {
      "cell_type": "markdown",
      "metadata": {
        "id": "JlcVJzGlIzZj"
      },
      "source": [
        "## TODO 4 [20%]: Loss\n",
        "---\n",
        "\n",
        "The two heads in our model will use different losses.\n",
        "\n",
        "1. The classification head shall use the binary cross entropy loss. The loss is calculated only for those anchors which have been classified as foreground or background (IOU > 0.7 or IOU < 0.3) and should not be calculated for anchors with (0.3 < IOU < 0.7).\n",
        "\n",
        "Since there are too many background anchors, the model can easily predict `background` for each anchor and still get a high accuracy. To prevent this, we may sample the foreground more frequently (say 3x more than the background). This strategy of sampling less frequent examples more often is called negative sampling. Since we're dealing with relatively small number of anchors (192), this problem shouldn't affect us yet. However, if we were to use more anchors, we would have to be more careful.\n",
        "\n",
        "2. For the regression head, use a Smooth L1 loss. This works well and prevents outliers. Only calculate this loss when there is a valid offset.\n",
        "\n",
        "Your next task is to write the code for the two losses. \n",
        "\n",
        "**Extra Credit**: Implement negative sampling as described above.\n"
      ]
    },
    {
      "cell_type": "code",
      "source": [
        "'''\n",
        "# TEST 1\n",
        "import torch\n",
        "import torch.nn as nn\n",
        "\n",
        "model = nn.Linear(10, 1)\n",
        "criterion = nn.BCEWithLogitsLoss()\n",
        "\n",
        "x = torch.randn(16, 10)\n",
        "y = torch.empty(16).random_(2)  # (16, )\n",
        "\n",
        "out = model(x)  # (16, 1)\n",
        "out = out.squeeze(dim=-1)  # (16, )\n",
        "print(out)\n",
        "print(y)\n",
        "\n",
        "loss = criterion(out, y)\n",
        "print(loss)\n",
        "'''"
      ],
      "metadata": {
        "colab": {
          "base_uri": "https://localhost:8080/"
        },
        "id": "T2iX2GbsxEnX",
        "outputId": "237dbada-31ee-4b14-d671-630669543aea"
      },
      "execution_count": null,
      "outputs": [
        {
          "output_type": "stream",
          "name": "stdout",
          "text": [
            "tensor([-0.1434,  0.3568, -0.0344, -0.2670, -0.6615,  0.1206,  0.5887, -0.3257,\n",
            "        -0.4868,  0.7723,  0.0939,  0.3163,  0.0579,  0.7099, -0.4334,  0.2400],\n",
            "       grad_fn=<SqueezeBackward1>)\n",
            "tensor([0., 1., 0., 1., 1., 1., 0., 1., 0., 0., 0., 0., 0., 1., 0., 0.])\n",
            "tensor(0.7473, grad_fn=<BinaryCrossEntropyWithLogitsBackward0>)\n"
          ]
        }
      ]
    },
    {
      "cell_type": "code",
      "source": [
        "'''\n",
        "criterion = nn.SmoothL1Loss(reduction='none')\n",
        "loss = criterion(torch.tensor([]), torch.tensor([]))\n",
        "loss\n",
        "'''"
      ],
      "metadata": {
        "colab": {
          "base_uri": "https://localhost:8080/"
        },
        "id": "MFyqUq2JuDAE",
        "outputId": "cbf3227e-759d-4eec-b54a-33b0b1be5ebf"
      },
      "execution_count": null,
      "outputs": [
        {
          "output_type": "execute_result",
          "data": {
            "text/plain": [
              "tensor([])"
            ]
          },
          "metadata": {},
          "execution_count": 68
        }
      ]
    },
    {
      "cell_type": "code",
      "source": [
        "'''\n",
        "# TEST 2\n",
        "criterion = nn.BCEWithLogitsLoss()\n",
        "loss = criterion(torch.tensor([]), torch.tensor([]))\n",
        "loss\n",
        "'''"
      ],
      "metadata": {
        "colab": {
          "base_uri": "https://localhost:8080/"
        },
        "id": "iWLq-DBgNjA7",
        "outputId": "d71a206e-9a63-409a-f5cc-1b22ac4a515e"
      },
      "execution_count": null,
      "outputs": [
        {
          "output_type": "execute_result",
          "data": {
            "text/plain": [
              "tensor(nan)"
            ]
          },
          "metadata": {},
          "execution_count": 183
        }
      ]
    },
    {
      "cell_type": "code",
      "source": [
        "def label_loss(pred_label, gt_label):\n",
        "    # TODO return label loss\n",
        "\n",
        "    pred_label = pred_label.to(device)\n",
        "    gt_label = gt_label.to(device)\n",
        "\n",
        "    num_ig = pred_label.size(0)\n",
        "    num_an = pred_label.size(1)\n",
        "\n",
        "    criterion = nn.BCEWithLogitsLoss()\n",
        "    pred_loss, gt_loss = list(), list()\n",
        "\n",
        "    for i in range(num_ig):\n",
        "        for j in range(num_an):\n",
        "            if gt_label[i][j] != -1:\n",
        "                pred_loss += [pred_label[i][j]]\n",
        "                gt_loss += [gt_label[i][j]]\n",
        "    \n",
        "    pred_loss = torch.stack(pred_loss, dim=0).to(device) if pred_loss else torch.tensor([])\n",
        "    gt_loss = torch.stack(gt_loss, dim=0).to(device) if gt_loss else torch.tensor([])\n",
        "    loss = criterion(pred_loss, gt_loss)\n",
        "\n",
        "    return loss\n",
        "  \n",
        "\n",
        "def offset_loss(pred_offset, gt_offset, gt_label):\n",
        "    # TODO return offset loss\n",
        "\n",
        "    pred_offset = pred_offset.to(device)\n",
        "    gt_offset = gt_offset.to(device)\n",
        "    gt_label = gt_label.to(device)\n",
        "\n",
        "    num_ig = pred_offset.size(0)\n",
        "    num_an = pred_offset.size(1)\n",
        "\n",
        "    criterion = nn.SmoothL1Loss()\n",
        "    pred_loss, gt_loss = list(), list()\n",
        "\n",
        "    for i in range(num_ig):\n",
        "        for j in range(num_an):\n",
        "            if gt_label[i][j] == 1:\n",
        "                pred_loss += [pred_offset[i][j]]\n",
        "                gt_loss += [gt_offset[i][j]]\n",
        "    \n",
        "    pred_loss = torch.stack(pred_loss, dim=0).to(device) if pred_loss else torch.tensor([])\n",
        "    gt_loss = torch.stack(gt_loss, dim=0).to(device) if gt_loss else torch.tensor([])\n",
        "    loss = criterion(pred_loss, gt_loss) if pred_loss.size(0) and gt_loss.size(0) else torch.tensor(0).to(device)\n",
        "    \n",
        "    # pred_loss = torch.stack(pred_loss, dim=0).to(device)\n",
        "    # gt_loss = torch.stack(gt_loss, dim=0).to(device) \n",
        "    # loss = criterion(pred_loss, gt_loss)\n",
        "\n",
        "    return loss"
      ],
      "metadata": {
        "id": "CuD4kYu1kLeo"
      },
      "execution_count": 20,
      "outputs": []
    },
    {
      "cell_type": "markdown",
      "metadata": {
        "id": "u42yvSLCI6pl"
      },
      "source": [
        "## TODO 5 [10%]: Training \n",
        "---\n",
        "\n",
        "This is the training function. It is complete in itself, but you're free to change this code to suit your needs. Make sure that your model is able to train well without any hiccups. In particular, we're looking for decreasing loss values without any NaNs."
      ]
    },
    {
      "cell_type": "code",
      "metadata": {
        "id": "trximgTSIzZj"
      },
      "source": [
        "def train(epoch, model, trainloader, optimizer):\n",
        "    total_loss = 0\n",
        "    running_offset_loss = 0\n",
        "    running_label_loss = 0\n",
        "    for i, (images, targets) in enumerate(trainloader):\n",
        "        images = torch.stack(images, dim=0).to(device)\n",
        "        gt_labels, gt_offsets = get_batch(images, targets)\n",
        "        pred_labels, pred_offsets = model(images)\n",
        "        loss_label = label_loss(pred_labels, gt_labels)\n",
        "        loss_offset = offset_loss(pred_offsets, gt_offsets, gt_labels)\n",
        "        loss = loss_label + loss_offset\n",
        "\n",
        "        optimizer.zero_grad()\n",
        "        loss.backward()\n",
        "        optimizer.step()\n",
        "\n",
        "        running_label_loss += loss_label.item()\n",
        "        running_offset_loss += loss_offset.item()\n",
        "\n",
        "        if (i+1) % 500 == 0:\n",
        "            print(f'Iter {i+1} | Class Loss: {running_label_loss / (i+1)} Offset Loss: {running_offset_loss / (i+1)}')\n",
        "        \n",
        "    avg_running_label_loss = float(running_label_loss / len(trainloader))\n",
        "    avg_running_offset_loss = float(running_offset_loss / len(trainloader))\n",
        "    print(f'Epoch: {epoch+1} | Class Loss: {avg_running_label_loss}, Offset Loss: {avg_running_offset_loss} \\n')"
      ],
      "execution_count": 21,
      "outputs": []
    },
    {
      "cell_type": "code",
      "metadata": {
        "id": "z8f5IswpIzZl",
        "colab": {
          "base_uri": "https://localhost:8080/"
        },
        "outputId": "62459b8c-491f-4e8f-9c8d-1b20ea71c4b0"
      },
      "source": [
        "# TODO: Train your model\n",
        "lr = 0.1\n",
        "model = ShapesModel()\n",
        "model.to(device)\n",
        "  \n",
        "optimizer = torch.optim.SGD(\n",
        "    model.parameters(),\n",
        "    lr=lr, momentum=0.9, weight_decay=1e-4\n",
        ")\n",
        "# optimizer = torch.optim.AdamW(model.parameters(), lr=lr, betas=(0.9, 0.99), eps=1e-06, weight_decay= 0.0005)\n",
        "# scheduler1 = torch.optim.lr_scheduler.ExponentialLR(optimizer, gamma=0.9)\n",
        "# scheduler2 = torch.optim.lr_scheduler.MultiStepLR(optimizer, milestones=[30,80], gamma=0.1)\n",
        "\n",
        "for epoch in range(5):\n",
        "    train(epoch, model, trainloader, optimizer)\n",
        "    # scheduler1.step()\n",
        "    # scheduler2.step()"
      ],
      "execution_count": 27,
      "outputs": [
        {
          "output_type": "stream",
          "name": "stderr",
          "text": [
            "/usr/local/lib/python3.7/dist-packages/ipykernel_launcher.py:36: UserWarning: To copy construct from a tensor, it is recommended to use sourceTensor.clone().detach() or sourceTensor.clone().detach().requires_grad_(True), rather than torch.tensor(sourceTensor).\n"
          ]
        },
        {
          "output_type": "stream",
          "name": "stdout",
          "text": [
            "Iter 500 | Class Loss: 0.072954405374825 Offset Loss: 0.025310263644671066\n",
            "Iter 1000 | Class Loss: 0.06674232109449804 Offset Loss: 0.014553800351568497\n",
            "Iter 1500 | Class Loss: 0.06382760206734141 Offset Loss: 0.01087927337080085\n",
            "Iter 2000 | Class Loss: 0.06153259257785976 Offset Loss: 0.009056273944996064\n",
            "Iter 2500 | Class Loss: 0.06001211047098041 Offset Loss: 0.007927657575602643\n",
            "Epoch: 1 | Class Loss: 0.06001211047098041, Offset Loss: 0.007927657575602643 \n",
            "\n",
            "Iter 500 | Class Loss: 0.05281579536572099 Offset Loss: 0.0033927841130644083\n",
            "Iter 1000 | Class Loss: 0.05082144012395293 Offset Loss: 0.0033776922753313557\n",
            "Iter 1500 | Class Loss: 0.04997854169271886 Offset Loss: 0.0033371893883838008\n",
            "Iter 2000 | Class Loss: 0.0485234553203918 Offset Loss: 0.003300495789531851\n",
            "Iter 2500 | Class Loss: 0.04630400233156979 Offset Loss: 0.0033630809125723316\n",
            "Epoch: 2 | Class Loss: 0.04630400233156979, Offset Loss: 0.0033630809125723316 \n",
            "\n",
            "Iter 500 | Class Loss: 0.03141559004131705 Offset Loss: 0.003586103131994605\n",
            "Iter 1000 | Class Loss: 0.029632322467165066 Offset Loss: 0.0035318949761567638\n",
            "Iter 1500 | Class Loss: 0.02780619125487283 Offset Loss: 0.003499284451342343\n",
            "Iter 2000 | Class Loss: 0.025984640237526037 Offset Loss: 0.0034579874415503584\n",
            "Iter 2500 | Class Loss: 0.024380104632209985 Offset Loss: 0.0034194762695464306\n",
            "Epoch: 3 | Class Loss: 0.024380104632209985, Offset Loss: 0.0034194762695464306 \n",
            "\n",
            "Iter 500 | Class Loss: 0.014926819327753037 Offset Loss: 0.003100936556234956\n",
            "Iter 1000 | Class Loss: 0.014054156720580068 Offset Loss: 0.003131931764219189\n",
            "Iter 1500 | Class Loss: 0.014065145270937744 Offset Loss: 0.003060109662609951\n",
            "Iter 2000 | Class Loss: 0.013797388123115525 Offset Loss: 0.0030262800980272006\n",
            "Iter 2500 | Class Loss: 0.013308793656621128 Offset Loss: 0.0030113524645683357\n",
            "Epoch: 4 | Class Loss: 0.013308793656621128, Offset Loss: 0.0030113524645683357 \n",
            "\n",
            "Iter 500 | Class Loss: 0.009281404245644808 Offset Loss: 0.002689761118381284\n",
            "Iter 1000 | Class Loss: 0.009095591410063207 Offset Loss: 0.0026552116763195956\n",
            "Iter 1500 | Class Loss: 0.008964678634695399 Offset Loss: 0.002655513640337934\n",
            "Iter 2000 | Class Loss: 0.008948503171413904 Offset Loss: 0.0026290078246966006\n",
            "Iter 2500 | Class Loss: 0.008685810712038073 Offset Loss: 0.0026038954481249674\n",
            "Epoch: 5 | Class Loss: 0.008685810712038073, Offset Loss: 0.0026038954481249674 \n",
            "\n"
          ]
        }
      ]
    },
    {
      "cell_type": "markdown",
      "metadata": {
        "id": "oqX8k4qYIzZn"
      },
      "source": [
        "## Validation\n",
        "---\n",
        "\n",
        "Now that we have a trained model, let's move on to visualizing some results. First, let's have a look at the validation data."
      ]
    },
    {
      "cell_type": "code",
      "metadata": {
        "id": "wRWPArY7IzZo"
      },
      "source": [
        "sample, target = iter(valloader).next()\n",
        "sample = torch.stack(sample,dim=0)"
      ],
      "execution_count": 102,
      "outputs": []
    },
    {
      "cell_type": "code",
      "metadata": {
        "id": "GXpoJRadIzZq",
        "colab": {
          "base_uri": "https://localhost:8080/",
          "height": 595
        },
        "outputId": "dff903a1-5885-4182-a9c8-f62875044c7a"
      },
      "source": [
        "visualize(sample, target)"
      ],
      "execution_count": 103,
      "outputs": [
        {
          "output_type": "display_data",
          "data": {
            "text/plain": [
              "<Figure size 720x720 with 4 Axes>"
            ],
            "image/png": "[encoded data removed]"
          },
          "metadata": {
            "needs_background": "light"
          }
        }
      ]
    },
    {
      "cell_type": "markdown",
      "metadata": {
        "id": "eAZPrnKcl6oU"
      },
      "source": [
        "\n",
        "## Non-Maximal Supression\n",
        "---\n",
        "To visualize predictions from our model, we perform NMS on the final predictions to clear up the output. This is done as a lot of anchors near to the actual object will fire resulting in a lot of boxes. NMS handles these multiple predictions by merging and giving a single box for a predicted object instead of multiple. This is best shown through the following image.\n",
        "\n",
        "![NMS](https://miro.medium.com/max/1000/0*WI5_K3bAbYaRyzE-.png)"
      ]
    },
    {
      "cell_type": "markdown",
      "source": [
        "## TODO 6 [25%]: Visualize\n",
        "---\n",
        "\n",
        "Now onto the final stretch! Your final task is to write code to visualize the model predictions on an image from the validation set. \n",
        "\n",
        "\n",
        "You will implement the `visualize_preds` function. This function will perform three subtasks.  \n",
        "  (a). Select what anchors to draw on the image. Generally, if the foreground probability is > 0.7, it's a good idea to use the anchor.  \n",
        "  (b). Adjust the anchors using the offsets. For this, you will need to _invert_ the `compute_offsets` function described above.  \n",
        "Specifically, you will write the function `apply_offsets` that is related to `compute_offsets` in the following manner.\n",
        "```\n",
        "targets = apply_offsets(anchors, compute_offsets(targets, anchors))\n",
        "```\n",
        "  (c). Finally, you will use NMS to filter out anchors. You can use [`torchvision.ops.nms`](https://pytorch.org/vision/stable/generated/torchvision.ops.nms.html)"
      ],
      "metadata": {
        "id": "Dea_FemSY2HI"
      }
    },
    {
      "cell_type": "code",
      "source": [
        "def apply_offsets(anchors, offsets):\n",
        "    \"\"\"\n",
        "    This function appiles offsets to anchors and returns the result.\n",
        "    Both anchors and offsets should be of the same shape, N x 4.\n",
        "    offsets is the result from compute_offsets function.\n",
        "    \"\"\"\n",
        "    # TODO: apply offsets to anchors\n",
        "    a_width = anchors[:, 2] - anchors[:, 0]\n",
        "    a_height = anchors[:, 3] - anchors[:, 1]\n",
        "    a_center_x = anchors[:, 0] + 0.5 * a_width\n",
        "    a_center_y = anchors[:, 1] + 0.5 * a_height \n",
        "\n",
        "    delta_x = offsets[:, 0]\n",
        "    delta_y = offsets[:, 1]\n",
        "    delta_scale_x = offsets[:, 2]\n",
        "    delta_scale_y = offsets[:, 3]\n",
        "\n",
        "    t_width = a_width / torch.exp(delta_scale_x)\n",
        "    t_height = a_height / torch.exp(delta_scale_y)\n",
        "    t_center_x = a_center_x - delta_x * t_width\n",
        "    t_center_y = a_center_y - delta_y * t_height\n",
        "\n",
        "    top_left_x = t_center_x - t_width * 0.5\n",
        "    top_left_y = t_center_y - t_height * 0.5\n",
        "    bottom_right_x = top_left_x + t_width\n",
        "    bottom_right_y = top_left_y + t_height\n",
        "\n",
        "    res = torch.cat([top_left_x.unsqueeze(0), top_left_y.unsqueeze(0), bottom_right_x.unsqueeze(0), bottom_right_y.unsqueeze(0)],\n",
        "                dim=0)\n",
        "    \n",
        "    return res.permute(1, 0)    "
      ],
      "metadata": {
        "id": "T9uJM-TXcxXI"
      },
      "execution_count": 55,
      "outputs": []
    },
    {
      "cell_type": "code",
      "source": [
        "# TEST the validity of your implementation of apply_offsets.\n",
        "# create fake targets\n",
        "top_left = torch.randint(128, [5, 2])\n",
        "bottom_right = top_left + torch.randint(60, [5, 2])\n",
        "# analogous to ground truth bounding boxes\n",
        "targets_t = torch.cat([top_left, bottom_right], dim=1)\n",
        "\n",
        "# create fake anchors\n",
        "top_left = torch.randint(128, [5, 2])\n",
        "bottom_right = top_left + torch.randint(60, [5, 2])\n",
        "# analogous to best matching anchors\n",
        "anchors_t = torch.cat([top_left, bottom_right], dim=1)\n",
        "\n",
        "# check validity of apply_offsets\n",
        "offsets_t = compute_offsets(targets_t, anchors_t)\n",
        "pred_targets = apply_offsets(anchors_t, offsets_t)\n",
        "\n",
        "# mask out nans, just in case\n",
        "mask = pred_targets.isfinite()\n",
        "pred_targets = pred_targets[mask]\n",
        "targets_t = targets_t[mask].float()\n",
        "\n",
        "# should return true\n",
        "torch.allclose(pred_targets, targets_t)"
      ],
      "metadata": {
        "colab": {
          "base_uri": "https://localhost:8080/"
        },
        "id": "h9h1OhEt5-bR",
        "outputId": "1a44f972-03e4-45c1-dc4e-bbeb0c3392f5"
      },
      "execution_count": 56,
      "outputs": [
        {
          "output_type": "execute_result",
          "data": {
            "text/plain": [
              "True"
            ]
          },
          "metadata": {},
          "execution_count": 56
        }
      ]
    },
    {
      "cell_type": "code",
      "source": [
        "def visualize_preds(model, sample):\n",
        "    model = model.to('cpu')\n",
        "\n",
        "    label_preds, offset_preds = model(sample)\n",
        "\n",
        "    # TODO: select foreground anchors, apply offsets and use NMS\n",
        "    model.eval()\n",
        "    gt_anchors = get_anchors()\n",
        "    predictions = []\n",
        "    iou_threshold = 0.3\n",
        "    for i in range(sample.shape[0]):\n",
        "      label_pred = torch.sigmoid(label_preds[i])\n",
        "      offset_pred = offset_preds[i]\n",
        "      box = gt_anchors[label_pred > 0.7]\n",
        "      offset_pred = offset_pred[label_pred > 0.7]\n",
        "      label_pred = label_pred[label_pred > 0.7]\n",
        "      \n",
        "      box = apply_offsets(box, offset_pred) \n",
        "      \n",
        "      res = nms(box, label_pred, iou_threshold)\n",
        "      predictions.append({'bounding_box' : box[res].data})\n",
        "    \n",
        "    visualize(sample, predictions)\n",
        "\n",
        "visualize_preds(model, sample)"
      ],
      "metadata": {
        "colab": {
          "base_uri": "https://localhost:8080/",
          "height": 595
        },
        "id": "gmxlXPqhWCaz",
        "outputId": "d8c96e50-70eb-4649-9b3c-6452128d3e55"
      },
      "execution_count": 105,
      "outputs": [
        {
          "output_type": "display_data",
          "data": {
            "text/plain": [
              "<Figure size 720x720 with 4 Axes>"
            ],
            "image/png": "[encoded data removed]"
          },
          "metadata": {
            "needs_background": "light"
          }
        }
      ]
    },
    {
      "cell_type": "markdown",
      "metadata": {
        "id": "uCNCE3PenkNa"
      },
      "source": [
        "## Conclusion\n",
        "---\n",
        "Not bad, right ? This is a very barebones implementation and trained for a very short amount of epochs. However this is the gist of most anchor based state of the art detectors out today. We can improve accuracy by doing multiscale training and incorporating a Feature Pyramid Network amongst other things, but that is for you to discover :)\n",
        "\n",
        "## References\n",
        "---\n",
        "\n",
        "Some foundational/good papers on object detection. This list is non exhaustive\n",
        "\n",
        "1. [Single Shot Detector](https://arxiv.org/abs/1512.02325)\n",
        "2. [YOLO](https://arxiv.org/abs/1612.08242)\n",
        "3. [Faster RCNN](https://arxiv.org/abs/1506.01497)\n",
        "4. [Feature Pyramid Network](https://arxiv.org/abs/1612.03144)\n",
        "5. Bonus Read: [DETR- State of the art Object detector based on Transformers](https://arxiv.org/abs/2005.12872)\n"
      ]
    }
  ]
}